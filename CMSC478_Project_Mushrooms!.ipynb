{
  "cells": [
    {
      "cell_type": "markdown",
      "metadata": {
        "id": "7r1XyJJyKaRm"
      },
      "source": [
        "## **Contributions**\n",
        "\n",
        "Sam: Presented slides, worked on adversarial testing"
      ]
    },
    {
      "cell_type": "markdown",
      "metadata": {
        "id": "X64R5aG_KtR6"
      },
      "source": [
        "Matt: Most of the slides and did sklearn feature selection"
      ]
    },
    {
      "cell_type": "markdown",
      "metadata": {
        "id": "I5RBdd4oKu33"
      },
      "source": [
        "Adrienne: Prepared data, performed cross-validation testing, tested models on new dataset, performed feature selection using logistic regression weights."
      ]
    },
    {
      "cell_type": "markdown",
      "metadata": {
        "id": "1pBvXppKKvGA"
      },
      "source": [
        "Jackson: Refined some of the slides. Assisted with perceptron and logistic regression on original data set. Also helped with getting weights from logistic regression on original data set. Presented some of the slides"
      ]
    },
    {
      "cell_type": "code",
      "execution_count": null,
      "metadata": {
        "id": "S9VHUgLdJxns"
      },
      "outputs": [],
      "source": [
        "import pandas as pd\n",
        "import numpy as np\n",
        "import matplotlib.pyplot as plt\n",
        "%matplotlib inline\n",
        "from sklearn.linear_model import Perceptron, LogisticRegression\n",
        "from sklearn import svm\n",
        "from sklearn.naive_bayes import BernoulliNB, GaussianNB\n",
        "from sklearn.metrics import confusion_matrix, accuracy_score, ConfusionMatrixDisplay\n",
        "from sklearn.model_selection import cross_val_score, train_test_split"
      ]
    },
    {
      "cell_type": "code",
      "execution_count": null,
      "metadata": {
        "colab": {
          "background_save": true,
          "base_uri": "https://localhost:8080/",
          "height": 38
        },
        "id": "ca1sbOEDI-Mj",
        "outputId": "861dbea5-e5d9-464a-aebc-c3c189390646"
      },
      "outputs": [
        {
          "data": {
            "text/html": [
              "\n",
              "     <input type=\"file\" id=\"files-9c279bf8-d5d5-40e0-913e-d834589cde53\" name=\"files[]\" multiple disabled\n",
              "        style=\"border:none\" />\n",
              "     <output id=\"result-9c279bf8-d5d5-40e0-913e-d834589cde53\">\n",
              "      Upload widget is only available when the cell has been executed in the\n",
              "      current browser session. Please rerun this cell to enable.\n",
              "      </output>\n",
              "      <script>// Copyright 2017 Google LLC\n",
              "//\n",
              "// Licensed under the Apache License, Version 2.0 (the \"License\");\n",
              "// you may not use this file except in compliance with the License.\n",
              "// You may obtain a copy of the License at\n",
              "//\n",
              "//      http://www.apache.org/licenses/LICENSE-2.0\n",
              "//\n",
              "// Unless required by applicable law or agreed to in writing, software\n",
              "// distributed under the License is distributed on an \"AS IS\" BASIS,\n",
              "// WITHOUT WARRANTIES OR CONDITIONS OF ANY KIND, either express or implied.\n",
              "// See the License for the specific language governing permissions and\n",
              "// limitations under the License.\n",
              "\n",
              "/**\n",
              " * @fileoverview Helpers for google.colab Python module.\n",
              " */\n",
              "(function(scope) {\n",
              "function span(text, styleAttributes = {}) {\n",
              "  const element = document.createElement('span');\n",
              "  element.textContent = text;\n",
              "  for (const key of Object.keys(styleAttributes)) {\n",
              "    element.style[key] = styleAttributes[key];\n",
              "  }\n",
              "  return element;\n",
              "}\n",
              "\n",
              "// Max number of bytes which will be uploaded at a time.\n",
              "const MAX_PAYLOAD_SIZE = 100 * 1024;\n",
              "\n",
              "function _uploadFiles(inputId, outputId) {\n",
              "  const steps = uploadFilesStep(inputId, outputId);\n",
              "  const outputElement = document.getElementById(outputId);\n",
              "  // Cache steps on the outputElement to make it available for the next call\n",
              "  // to uploadFilesContinue from Python.\n",
              "  outputElement.steps = steps;\n",
              "\n",
              "  return _uploadFilesContinue(outputId);\n",
              "}\n",
              "\n",
              "// This is roughly an async generator (not supported in the browser yet),\n",
              "// where there are multiple asynchronous steps and the Python side is going\n",
              "// to poll for completion of each step.\n",
              "// This uses a Promise to block the python side on completion of each step,\n",
              "// then passes the result of the previous step as the input to the next step.\n",
              "function _uploadFilesContinue(outputId) {\n",
              "  const outputElement = document.getElementById(outputId);\n",
              "  const steps = outputElement.steps;\n",
              "\n",
              "  const next = steps.next(outputElement.lastPromiseValue);\n",
              "  return Promise.resolve(next.value.promise).then((value) => {\n",
              "    // Cache the last promise value to make it available to the next\n",
              "    // step of the generator.\n",
              "    outputElement.lastPromiseValue = value;\n",
              "    return next.value.response;\n",
              "  });\n",
              "}\n",
              "\n",
              "/**\n",
              " * Generator function which is called between each async step of the upload\n",
              " * process.\n",
              " * @param {string} inputId Element ID of the input file picker element.\n",
              " * @param {string} outputId Element ID of the output display.\n",
              " * @return {!Iterable<!Object>} Iterable of next steps.\n",
              " */\n",
              "function* uploadFilesStep(inputId, outputId) {\n",
              "  const inputElement = document.getElementById(inputId);\n",
              "  inputElement.disabled = false;\n",
              "\n",
              "  const outputElement = document.getElementById(outputId);\n",
              "  outputElement.innerHTML = '';\n",
              "\n",
              "  const pickedPromise = new Promise((resolve) => {\n",
              "    inputElement.addEventListener('change', (e) => {\n",
              "      resolve(e.target.files);\n",
              "    });\n",
              "  });\n",
              "\n",
              "  const cancel = document.createElement('button');\n",
              "  inputElement.parentElement.appendChild(cancel);\n",
              "  cancel.textContent = 'Cancel upload';\n",
              "  const cancelPromise = new Promise((resolve) => {\n",
              "    cancel.onclick = () => {\n",
              "      resolve(null);\n",
              "    };\n",
              "  });\n",
              "\n",
              "  // Wait for the user to pick the files.\n",
              "  const files = yield {\n",
              "    promise: Promise.race([pickedPromise, cancelPromise]),\n",
              "    response: {\n",
              "      action: 'starting',\n",
              "    }\n",
              "  };\n",
              "\n",
              "  cancel.remove();\n",
              "\n",
              "  // Disable the input element since further picks are not allowed.\n",
              "  inputElement.disabled = true;\n",
              "\n",
              "  if (!files) {\n",
              "    return {\n",
              "      response: {\n",
              "        action: 'complete',\n",
              "      }\n",
              "    };\n",
              "  }\n",
              "\n",
              "  for (const file of files) {\n",
              "    const li = document.createElement('li');\n",
              "    li.append(span(file.name, {fontWeight: 'bold'}));\n",
              "    li.append(span(\n",
              "        `(${file.type || 'n/a'}) - ${file.size} bytes, ` +\n",
              "        `last modified: ${\n",
              "            file.lastModifiedDate ? file.lastModifiedDate.toLocaleDateString() :\n",
              "                                    'n/a'} - `));\n",
              "    const percent = span('0% done');\n",
              "    li.appendChild(percent);\n",
              "\n",
              "    outputElement.appendChild(li);\n",
              "\n",
              "    const fileDataPromise = new Promise((resolve) => {\n",
              "      const reader = new FileReader();\n",
              "      reader.onload = (e) => {\n",
              "        resolve(e.target.result);\n",
              "      };\n",
              "      reader.readAsArrayBuffer(file);\n",
              "    });\n",
              "    // Wait for the data to be ready.\n",
              "    let fileData = yield {\n",
              "      promise: fileDataPromise,\n",
              "      response: {\n",
              "        action: 'continue',\n",
              "      }\n",
              "    };\n",
              "\n",
              "    // Use a chunked sending to avoid message size limits. See b/62115660.\n",
              "    let position = 0;\n",
              "    do {\n",
              "      const length = Math.min(fileData.byteLength - position, MAX_PAYLOAD_SIZE);\n",
              "      const chunk = new Uint8Array(fileData, position, length);\n",
              "      position += length;\n",
              "\n",
              "      const base64 = btoa(String.fromCharCode.apply(null, chunk));\n",
              "      yield {\n",
              "        response: {\n",
              "          action: 'append',\n",
              "          file: file.name,\n",
              "          data: base64,\n",
              "        },\n",
              "      };\n",
              "\n",
              "      let percentDone = fileData.byteLength === 0 ?\n",
              "          100 :\n",
              "          Math.round((position / fileData.byteLength) * 100);\n",
              "      percent.textContent = `${percentDone}% done`;\n",
              "\n",
              "    } while (position < fileData.byteLength);\n",
              "  }\n",
              "\n",
              "  // All done.\n",
              "  yield {\n",
              "    response: {\n",
              "      action: 'complete',\n",
              "    }\n",
              "  };\n",
              "}\n",
              "\n",
              "scope.google = scope.google || {};\n",
              "scope.google.colab = scope.google.colab || {};\n",
              "scope.google.colab._files = {\n",
              "  _uploadFiles,\n",
              "  _uploadFilesContinue,\n",
              "};\n",
              "})(self);\n",
              "</script> "
            ],
            "text/plain": [
              "<IPython.core.display.HTML object>"
            ]
          },
          "metadata": {},
          "output_type": "display_data"
        }
      ],
      "source": [
        "# upload dataset\n",
        "# allows you to select a folder from your local drive\n",
        "from google.colab import files\n",
        "uploaded = files.upload()"
      ]
    },
    {
      "cell_type": "markdown",
      "metadata": {
        "id": "hoZlGygim5JU"
      },
      "source": [
        "# **Preparing the Data**"
      ]
    },
    {
      "cell_type": "code",
      "execution_count": null,
      "metadata": {
        "colab": {
          "base_uri": "https://localhost:8080/"
        },
        "id": "10uB7EYxKkiQ",
        "outputId": "18b8214a-7f45-4cd8-f839-9cf21f1ff6f1"
      },
      "outputs": [
        {
          "name": "stdout",
          "output_type": "stream",
          "text": [
            "  class cap-shape cap-surface cap-color bruises odor gill-attachment  \\\n",
            "0     p         x           s         n       t    p               f   \n",
            "1     e         x           s         y       t    a               f   \n",
            "2     e         b           s         w       t    l               f   \n",
            "3     p         x           y         w       t    p               f   \n",
            "4     e         x           s         g       f    n               f   \n",
            "\n",
            "  gill-spacing gill-size gill-color  ... stalk-surface-below-ring  \\\n",
            "0            c         n          k  ...                        s   \n",
            "1            c         b          k  ...                        s   \n",
            "2            c         b          n  ...                        s   \n",
            "3            c         n          n  ...                        s   \n",
            "4            w         b          k  ...                        s   \n",
            "\n",
            "  stalk-color-above-ring stalk-color-below-ring veil-type veil-color  \\\n",
            "0                      w                      w         p          w   \n",
            "1                      w                      w         p          w   \n",
            "2                      w                      w         p          w   \n",
            "3                      w                      w         p          w   \n",
            "4                      w                      w         p          w   \n",
            "\n",
            "  ring-number ring-type spore-print-color population habitat  \n",
            "0           o         p                 k          s       u  \n",
            "1           o         p                 n          n       g  \n",
            "2           o         p                 n          n       m  \n",
            "3           o         p                 k          s       u  \n",
            "4           o         e                 n          a       g  \n",
            "\n",
            "[5 rows x 23 columns]\n"
          ]
        }
      ],
      "source": [
        "# read in dataset\n",
        "column_names = ['class', 'cap-shape', 'cap-surface', 'cap-color', 'bruises',\n",
        "                'odor', 'gill-attachment', 'gill-spacing', 'gill-size',\n",
        "                'gill-color', 'stalk-shape', 'stalk-root',\n",
        "                'stalk-surface-above-ring', 'stalk-surface-below-ring',\n",
        "                'stalk-color-above-ring', 'stalk-color-below-ring', 'veil-type',\n",
        "                'veil-color', 'ring-number', 'ring-type', 'spore-print-color',\n",
        "                'population', 'habitat']\n",
        "df = pd.read_csv(r'agaricus-lepiota.data', names=column_names)\n",
        "print(df.head())"
      ]
    },
    {
      "cell_type": "code",
      "execution_count": null,
      "metadata": {
        "colab": {
          "base_uri": "https://localhost:8080/"
        },
        "id": "jsUiHA6wS0cY",
        "outputId": "f5646e42-3d20-4112-8fba-966f5523a236"
      },
      "outputs": [
        {
          "name": "stdout",
          "output_type": "stream",
          "text": [
            "class: 2\n",
            "cap-shape: 6\n",
            "cap-surface: 4\n",
            "cap-color: 10\n",
            "bruises: 2\n",
            "odor: 9\n",
            "gill-attachment: 2\n",
            "gill-spacing: 2\n",
            "gill-size: 2\n",
            "gill-color: 12\n",
            "stalk-shape: 2\n",
            "stalk-root: 5\n",
            "stalk-surface-above-ring: 4\n",
            "stalk-surface-below-ring: 4\n",
            "stalk-color-above-ring: 9\n",
            "stalk-color-below-ring: 9\n",
            "veil-type: 1\n",
            "veil-color: 4\n",
            "ring-number: 3\n",
            "ring-type: 5\n",
            "spore-print-color: 9\n",
            "population: 6\n",
            "habitat: 7\n",
            "The final number of columns should be: 96\n"
          ]
        }
      ],
      "source": [
        "count = 0\n",
        "# see how many unique values there are in each column\n",
        "for i in range(len(column_names)):\n",
        "  n = len(pd.unique(df[column_names[i]]))\n",
        "  count += (n - 1)\n",
        "  print(f\"{column_names[i]}: {n}\")\n",
        "\n",
        "print(f\"The final number of columns should be: {count}\")"
      ]
    },
    {
      "cell_type": "code",
      "execution_count": null,
      "metadata": {
        "colab": {
          "base_uri": "https://localhost:8080/"
        },
        "id": "tXcbESApzHij",
        "outputId": "abbd72ae-dc51-4fef-ddd6-97acddab59bd"
      },
      "outputs": [
        {
          "name": "stdout",
          "output_type": "stream",
          "text": [
            "      class_p  cap-shape_c  cap-shape_f  cap-shape_k  cap-shape_s  \\\n",
            "0           1            0            0            0            0   \n",
            "1           0            0            0            0            0   \n",
            "2           0            0            0            0            0   \n",
            "3           1            0            0            0            0   \n",
            "4           0            0            0            0            0   \n",
            "...       ...          ...          ...          ...          ...   \n",
            "8119        0            0            0            1            0   \n",
            "8120        0            0            0            0            0   \n",
            "8121        0            0            1            0            0   \n",
            "8122        1            0            0            1            0   \n",
            "8123        0            0            0            0            0   \n",
            "\n",
            "      cap-shape_x  cap-surface_g  cap-surface_s  cap-surface_y  cap-color_c  \\\n",
            "0               1              0              1              0            0   \n",
            "1               1              0              1              0            0   \n",
            "2               0              0              1              0            0   \n",
            "3               1              0              0              1            0   \n",
            "4               1              0              1              0            0   \n",
            "...           ...            ...            ...            ...          ...   \n",
            "8119            0              0              1              0            0   \n",
            "8120            1              0              1              0            0   \n",
            "8121            0              0              1              0            0   \n",
            "8122            0              0              0              1            0   \n",
            "8123            1              0              1              0            0   \n",
            "\n",
            "      ...  population_n  population_s  population_v  population_y  habitat_g  \\\n",
            "0     ...             0             1             0             0          0   \n",
            "1     ...             1             0             0             0          1   \n",
            "2     ...             1             0             0             0          0   \n",
            "3     ...             0             1             0             0          0   \n",
            "4     ...             0             0             0             0          1   \n",
            "...   ...           ...           ...           ...           ...        ...   \n",
            "8119  ...             0             0             0             0          0   \n",
            "8120  ...             0             0             1             0          0   \n",
            "8121  ...             0             0             0             0          0   \n",
            "8122  ...             0             0             1             0          0   \n",
            "8123  ...             0             0             0             0          0   \n",
            "\n",
            "      habitat_l  habitat_m  habitat_p  habitat_u  habitat_w  \n",
            "0             0          0          0          1          0  \n",
            "1             0          0          0          0          0  \n",
            "2             0          1          0          0          0  \n",
            "3             0          0          0          1          0  \n",
            "4             0          0          0          0          0  \n",
            "...         ...        ...        ...        ...        ...  \n",
            "8119          1          0          0          0          0  \n",
            "8120          1          0          0          0          0  \n",
            "8121          1          0          0          0          0  \n",
            "8122          1          0          0          0          0  \n",
            "8123          1          0          0          0          0  \n",
            "\n",
            "[8124 rows x 96 columns]\n"
          ]
        }
      ],
      "source": [
        "# this is a much more concise way of creating dummy columns\n",
        "# set drop_first to true so that it drops a dummy column for each original attribute to prevent dummy variable trap\n",
        "df_binary = pd.get_dummies(df, columns=df.columns, drop_first=True)\n",
        "print(df_binary)"
      ]
    },
    {
      "cell_type": "code",
      "execution_count": null,
      "metadata": {
        "id": "-8u_sJMKfhJ_"
      },
      "outputs": [],
      "source": [
        "# make numpy array\n",
        "mushroom_data = df_binary.values\n",
        "\n",
        "# split array into labels and features\n",
        "X, y = mushroom_data[:, 1:], mushroom_data[:, 0]\n",
        "\n",
        "# separate data into training and testing groups\n",
        "X_train, X_test, y_train, y_test = train_test_split(X, y,\n",
        "                                test_size=0.2,\n",
        "                                random_state=123)"
      ]
    },
    {
      "cell_type": "markdown",
      "metadata": {
        "id": "q4okrNb5nCH0"
      },
      "source": [
        "# **Train and Test Models**"
      ]
    },
    {
      "cell_type": "markdown",
      "metadata": {
        "id": "Nl-txvqGkgf7"
      },
      "source": [
        "## **Perceptron**"
      ]
    },
    {
      "cell_type": "code",
      "execution_count": null,
      "metadata": {
        "colab": {
          "base_uri": "https://localhost:8080/",
          "height": 466
        },
        "id": "v-h2ckXIk4VH",
        "outputId": "6f72b2b3-01c5-4195-efa3-e91ff27b7d64"
      },
      "outputs": [
        {
          "name": "stdout",
          "output_type": "stream",
          "text": [
            "Perceptron has accuracy of:  1.0\n"
          ]
        },
        {
          "data": {
            "image/png": "[encoded data removed]",
            "text/plain": [
              "<Figure size 640x480 with 2 Axes>"
            ]
          },
          "metadata": {},
          "output_type": "display_data"
        }
      ],
      "source": [
        "#create perceptron model\n",
        "p = Perceptron(max_iter=1000, tol=1e-3)\n",
        "# train model\n",
        "p.fit(X_train, y_train)\n",
        "\n",
        "# test model\n",
        "y_pred = p.predict(X_test)\n",
        "print(\"Perceptron has accuracy of: \", p.score(X_test, y_test))\n",
        "# Evaluate the confusion_matrix\n",
        "ConfusionMatrixDisplay.from_predictions(y_test, y_pred)\n",
        "plt.show()"
      ]
    },
    {
      "cell_type": "markdown",
      "metadata": {
        "id": "KkPtN9XXlcCc"
      },
      "source": [
        "## **Logistic Regression**"
      ]
    },
    {
      "cell_type": "code",
      "execution_count": null,
      "metadata": {
        "colab": {
          "base_uri": "https://localhost:8080/",
          "height": 466
        },
        "id": "ROfjynCSlfGD",
        "outputId": "a7a753b8-1192-4ad3-9f34-5c9099662dd0"
      },
      "outputs": [
        {
          "name": "stdout",
          "output_type": "stream",
          "text": [
            "Logistic regression classifier has accuracy of:  1.0\n"
          ]
        },
        {
          "data": {
            "image/png": "[encoded data removed]",
            "text/plain": [
              "<Figure size 640x480 with 2 Axes>"
            ]
          },
          "metadata": {},
          "output_type": "display_data"
        }
      ],
      "source": [
        "# Fitting logistic regression with default parameter values\n",
        "logreg = LogisticRegression()\n",
        "logreg.fit(X_train, y_train)\n",
        "\n",
        "# Using the trained model to predict instances from the test set\n",
        "y_pred = logreg.predict(X_test)\n",
        "\n",
        "# Getting the accuracy score of predictive model\n",
        "print(\"Logistic regression classifier has accuracy of: \", logreg.score(X_test, y_test))\n",
        "\n",
        "# Evaluate the confusion_matrix\n",
        "ConfusionMatrixDisplay.from_predictions(y_test, y_pred)\n",
        "plt.show()"
      ]
    },
    {
      "cell_type": "code",
      "execution_count": null,
      "metadata": {
        "id": "2bjFq2I-N4a2"
      },
      "outputs": [],
      "source": []
    },
    {
      "cell_type": "markdown",
      "metadata": {
        "id": "PMoiX_tUsDVz"
      },
      "source": [
        "## **Naive Bayes**"
      ]
    },
    {
      "cell_type": "code",
      "execution_count": null,
      "metadata": {
        "colab": {
          "base_uri": "https://localhost:8080/",
          "height": 466
        },
        "id": "w7kmSxkTrHX1",
        "outputId": "e8aa44e4-e554-4d90-bbe9-f5b25e4e0639"
      },
      "outputs": [
        {
          "name": "stdout",
          "output_type": "stream",
          "text": [
            "Bernoulli Naive Bayes classifier has accuracy of:  0.9353846153846154\n"
          ]
        },
        {
          "data": {
            "image/png": "[encoded data removed]",
            "text/plain": [
              "<Figure size 640x480 with 2 Axes>"
            ]
          },
          "metadata": {},
          "output_type": "display_data"
        }
      ],
      "source": [
        "# first try a Bernoulli Naive Bayes since all features are binary\n",
        "b = BernoulliNB()\n",
        "b.fit(X_train, y_train)\n",
        "y_pred = b.predict(X_test)\n",
        "\n",
        "# Getting the accuracy score of predictive model\n",
        "print(\"Bernoulli Naive Bayes classifier has accuracy of: \", b.score(X_test, y_test))\n",
        "\n",
        "# Evaluate the confusion_matrix\n",
        "ConfusionMatrixDisplay.from_predictions(y_test, y_pred)\n",
        "plt.show()"
      ]
    },
    {
      "cell_type": "code",
      "execution_count": null,
      "metadata": {
        "colab": {
          "base_uri": "https://localhost:8080/",
          "height": 466
        },
        "id": "U3bzEY-jst5A",
        "outputId": "301c5835-954d-4750-8801-76563f7c048f"
      },
      "outputs": [
        {
          "name": "stdout",
          "output_type": "stream",
          "text": [
            "Gaussian Naive Bayes classifier has accuracy of:  0.9452307692307692\n"
          ]
        },
        {
          "data": {
            "image/png": "[encoded data removed]",
            "text/plain": [
              "<Figure size 640x480 with 2 Axes>"
            ]
          },
          "metadata": {},
          "output_type": "display_data"
        }
      ],
      "source": [
        "# Bernoulli Naive Bayes didn't perform as well as other models, so try Gaussian distribution\n",
        "b_gauss = GaussianNB()\n",
        "b_gauss.fit(X_train, y_train)\n",
        "y_pred = b_gauss.predict(X_test)\n",
        "\n",
        "# Getting the accuracy score of predictive model\n",
        "print(\"Gaussian Naive Bayes classifier has accuracy of: \", b_gauss.score(X_test, y_test))\n",
        "\n",
        "# Evaluate the confusion_matrix\n",
        "ConfusionMatrixDisplay.from_predictions(y_test, y_pred)\n",
        "plt.show()\n"
      ]
    },
    {
      "cell_type": "markdown",
      "metadata": {
        "id": "uYWmFLLQWuAi"
      },
      "source": [
        "The Gaussian model doesn't score much better than the Bernoulli model for accuracy, but the confusion matrix shows that it is to be preferred.  It only classified 1 poisonous mushroom as edible, as opposed to the Bernoulli model which classified 93 poisonous mushrooms as edible.  Predicting an edible mushroom as poisonous simply means that the user doesn't get to eat a mushroom, but the consequences of predicting a poisonous mushroom as edible could be deadly.  Therefore, any model with a low false negative rate is to be preferred over a model with a high false negative rate, regardless of overall accuracy."
      ]
    },
    {
      "cell_type": "markdown",
      "metadata": {
        "id": "ccMJhnf2mmtV"
      },
      "source": [
        "# **Testing Overfitting**\n",
        "Since two of the models achieved 100% accuracy on the test set, we need to check if they are overfitted."
      ]
    },
    {
      "cell_type": "markdown",
      "metadata": {
        "id": "_BBk4ZI3V1_2"
      },
      "source": [
        "## **10-Fold Cross Validation**\n",
        "First, we'll try k-fold cross validation which uses a different, non-overlapping subset of the training data for k epochs to test the model on after training on the remainder of the test data.  If the average of the accuracy scores on the validation sets is close to the results achieved above (100% accuracy), it is unlikely that the model is overfitting.  At the very least, it means that the training data samples are all similar enough that testing on a random subset of them won't affect the accuracy."
      ]
    },
    {
      "cell_type": "markdown",
      "metadata": {
        "id": "LsM-EA11nbhD"
      },
      "source": [
        "**Perceptron**"
      ]
    },
    {
      "cell_type": "code",
      "execution_count": null,
      "metadata": {
        "colab": {
          "base_uri": "https://localhost:8080/"
        },
        "id": "WKNeurPXV-VG",
        "outputId": "18ea3ebc-997e-49d6-ffa6-f20d49108b0f"
      },
      "outputs": [
        {
          "name": "stdout",
          "output_type": "stream",
          "text": [
            "Validation scores for 10 epochs: [0.98773006 0.99386503 0.99386503 1.         0.99386503 1.\n",
            " 1.         1.         0.99382716 1.        ]\n",
            "Average validation accuracy score: 0.9963152313868061\n"
          ]
        }
      ],
      "source": [
        "p_cv = Perceptron(max_iter=1000, tol=1e-3)\n",
        "p_cv_scores = cross_val_score(p_cv, X_test, y_test, cv=10)\n",
        "print(f\"Validation scores for 10 epochs: {p_cv_scores}\")\n",
        "print(f\"Average validation accuracy score: {sum(p_cv_scores)/len(p_cv_scores)}\")"
      ]
    },
    {
      "cell_type": "markdown",
      "metadata": {
        "id": "rAZbGMo4p2Le"
      },
      "source": [
        "**Logistic Regression**"
      ]
    },
    {
      "cell_type": "code",
      "execution_count": null,
      "metadata": {
        "colab": {
          "base_uri": "https://localhost:8080/"
        },
        "id": "GFVoHFWVm1H3",
        "outputId": "e860ded2-5ee4-48ed-a699-d17fc4438c95"
      },
      "outputs": [
        {
          "name": "stdout",
          "output_type": "stream",
          "text": [
            "Validation scores for 10 epochs: [1.         0.99386503 0.99386503 1.         1.         1.\n",
            " 1.         1.         0.98765432 1.        ]\n",
            "Average validation accuracy score: 0.9975384382337348\n"
          ]
        }
      ],
      "source": [
        "logreg_cv = LogisticRegression()\n",
        "logreg_cv_scores = cross_val_score(logreg_cv, X_test, y_test, cv=10)\n",
        "print(f\"Validation scores for 10 epochs: {logreg_cv_scores}\")\n",
        "print(f\"Average validation accuracy score: {sum(logreg_cv_scores)/len(logreg_cv_scores)}\")"
      ]
    },
    {
      "cell_type": "markdown",
      "metadata": {
        "id": "xH8VvvrBv9xx"
      },
      "source": [
        "## **Test Models on Another Dataset**\n",
        "This is another simulated dataset, with values taken from the book Mushrooms and Toadstools by Patrick Harding.  It has 61069 samples, representing 153 species.  It doesn't specify what families the mushrooms are in, so if the models don't perform well on this dataset, it could be because of that.  Also, the features don't perfectly align with the features in the original dataset (some features are missing and it has some additional features)."
      ]
    },
    {
      "cell_type": "code",
      "execution_count": null,
      "metadata": {
        "colab": {
          "base_uri": "https://localhost:8080/",
          "height": 73
        },
        "id": "Euuoiq9B3HyU",
        "outputId": "9bf9cfcf-0c14-45dd-dd43-e524a0d153a1"
      },
      "outputs": [
        {
          "data": {
            "text/html": [
              "\n",
              "     <input type=\"file\" id=\"files-ccc61b1e-fdd2-47bc-9c8c-56a1b672dc91\" name=\"files[]\" multiple disabled\n",
              "        style=\"border:none\" />\n",
              "     <output id=\"result-ccc61b1e-fdd2-47bc-9c8c-56a1b672dc91\">\n",
              "      Upload widget is only available when the cell has been executed in the\n",
              "      current browser session. Please rerun this cell to enable.\n",
              "      </output>\n",
              "      <script>// Copyright 2017 Google LLC\n",
              "//\n",
              "// Licensed under the Apache License, Version 2.0 (the \"License\");\n",
              "// you may not use this file except in compliance with the License.\n",
              "// You may obtain a copy of the License at\n",
              "//\n",
              "//      http://www.apache.org/licenses/LICENSE-2.0\n",
              "//\n",
              "// Unless required by applicable law or agreed to in writing, software\n",
              "// distributed under the License is distributed on an \"AS IS\" BASIS,\n",
              "// WITHOUT WARRANTIES OR CONDITIONS OF ANY KIND, either express or implied.\n",
              "// See the License for the specific language governing permissions and\n",
              "// limitations under the License.\n",
              "\n",
              "/**\n",
              " * @fileoverview Helpers for google.colab Python module.\n",
              " */\n",
              "(function(scope) {\n",
              "function span(text, styleAttributes = {}) {\n",
              "  const element = document.createElement('span');\n",
              "  element.textContent = text;\n",
              "  for (const key of Object.keys(styleAttributes)) {\n",
              "    element.style[key] = styleAttributes[key];\n",
              "  }\n",
              "  return element;\n",
              "}\n",
              "\n",
              "// Max number of bytes which will be uploaded at a time.\n",
              "const MAX_PAYLOAD_SIZE = 100 * 1024;\n",
              "\n",
              "function _uploadFiles(inputId, outputId) {\n",
              "  const steps = uploadFilesStep(inputId, outputId);\n",
              "  const outputElement = document.getElementById(outputId);\n",
              "  // Cache steps on the outputElement to make it available for the next call\n",
              "  // to uploadFilesContinue from Python.\n",
              "  outputElement.steps = steps;\n",
              "\n",
              "  return _uploadFilesContinue(outputId);\n",
              "}\n",
              "\n",
              "// This is roughly an async generator (not supported in the browser yet),\n",
              "// where there are multiple asynchronous steps and the Python side is going\n",
              "// to poll for completion of each step.\n",
              "// This uses a Promise to block the python side on completion of each step,\n",
              "// then passes the result of the previous step as the input to the next step.\n",
              "function _uploadFilesContinue(outputId) {\n",
              "  const outputElement = document.getElementById(outputId);\n",
              "  const steps = outputElement.steps;\n",
              "\n",
              "  const next = steps.next(outputElement.lastPromiseValue);\n",
              "  return Promise.resolve(next.value.promise).then((value) => {\n",
              "    // Cache the last promise value to make it available to the next\n",
              "    // step of the generator.\n",
              "    outputElement.lastPromiseValue = value;\n",
              "    return next.value.response;\n",
              "  });\n",
              "}\n",
              "\n",
              "/**\n",
              " * Generator function which is called between each async step of the upload\n",
              " * process.\n",
              " * @param {string} inputId Element ID of the input file picker element.\n",
              " * @param {string} outputId Element ID of the output display.\n",
              " * @return {!Iterable<!Object>} Iterable of next steps.\n",
              " */\n",
              "function* uploadFilesStep(inputId, outputId) {\n",
              "  const inputElement = document.getElementById(inputId);\n",
              "  inputElement.disabled = false;\n",
              "\n",
              "  const outputElement = document.getElementById(outputId);\n",
              "  outputElement.innerHTML = '';\n",
              "\n",
              "  const pickedPromise = new Promise((resolve) => {\n",
              "    inputElement.addEventListener('change', (e) => {\n",
              "      resolve(e.target.files);\n",
              "    });\n",
              "  });\n",
              "\n",
              "  const cancel = document.createElement('button');\n",
              "  inputElement.parentElement.appendChild(cancel);\n",
              "  cancel.textContent = 'Cancel upload';\n",
              "  const cancelPromise = new Promise((resolve) => {\n",
              "    cancel.onclick = () => {\n",
              "      resolve(null);\n",
              "    };\n",
              "  });\n",
              "\n",
              "  // Wait for the user to pick the files.\n",
              "  const files = yield {\n",
              "    promise: Promise.race([pickedPromise, cancelPromise]),\n",
              "    response: {\n",
              "      action: 'starting',\n",
              "    }\n",
              "  };\n",
              "\n",
              "  cancel.remove();\n",
              "\n",
              "  // Disable the input element since further picks are not allowed.\n",
              "  inputElement.disabled = true;\n",
              "\n",
              "  if (!files) {\n",
              "    return {\n",
              "      response: {\n",
              "        action: 'complete',\n",
              "      }\n",
              "    };\n",
              "  }\n",
              "\n",
              "  for (const file of files) {\n",
              "    const li = document.createElement('li');\n",
              "    li.append(span(file.name, {fontWeight: 'bold'}));\n",
              "    li.append(span(\n",
              "        `(${file.type || 'n/a'}) - ${file.size} bytes, ` +\n",
              "        `last modified: ${\n",
              "            file.lastModifiedDate ? file.lastModifiedDate.toLocaleDateString() :\n",
              "                                    'n/a'} - `));\n",
              "    const percent = span('0% done');\n",
              "    li.appendChild(percent);\n",
              "\n",
              "    outputElement.appendChild(li);\n",
              "\n",
              "    const fileDataPromise = new Promise((resolve) => {\n",
              "      const reader = new FileReader();\n",
              "      reader.onload = (e) => {\n",
              "        resolve(e.target.result);\n",
              "      };\n",
              "      reader.readAsArrayBuffer(file);\n",
              "    });\n",
              "    // Wait for the data to be ready.\n",
              "    let fileData = yield {\n",
              "      promise: fileDataPromise,\n",
              "      response: {\n",
              "        action: 'continue',\n",
              "      }\n",
              "    };\n",
              "\n",
              "    // Use a chunked sending to avoid message size limits. See b/62115660.\n",
              "    let position = 0;\n",
              "    do {\n",
              "      const length = Math.min(fileData.byteLength - position, MAX_PAYLOAD_SIZE);\n",
              "      const chunk = new Uint8Array(fileData, position, length);\n",
              "      position += length;\n",
              "\n",
              "      const base64 = btoa(String.fromCharCode.apply(null, chunk));\n",
              "      yield {\n",
              "        response: {\n",
              "          action: 'append',\n",
              "          file: file.name,\n",
              "          data: base64,\n",
              "        },\n",
              "      };\n",
              "\n",
              "      let percentDone = fileData.byteLength === 0 ?\n",
              "          100 :\n",
              "          Math.round((position / fileData.byteLength) * 100);\n",
              "      percent.textContent = `${percentDone}% done`;\n",
              "\n",
              "    } while (position < fileData.byteLength);\n",
              "  }\n",
              "\n",
              "  // All done.\n",
              "  yield {\n",
              "    response: {\n",
              "      action: 'complete',\n",
              "    }\n",
              "  };\n",
              "}\n",
              "\n",
              "scope.google = scope.google || {};\n",
              "scope.google.colab = scope.google.colab || {};\n",
              "scope.google.colab._files = {\n",
              "  _uploadFiles,\n",
              "  _uploadFilesContinue,\n",
              "};\n",
              "})(self);\n",
              "</script> "
            ],
            "text/plain": [
              "<IPython.core.display.HTML object>"
            ]
          },
          "metadata": {},
          "output_type": "display_data"
        },
        {
          "name": "stdout",
          "output_type": "stream",
          "text": [
            "Saving data.csv to data.csv\n"
          ]
        }
      ],
      "source": [
        "# upload dataset\n",
        "from google.colab import files\n",
        "uploaded = files.upload()"
      ]
    },
    {
      "cell_type": "code",
      "execution_count": null,
      "metadata": {
        "colab": {
          "base_uri": "https://localhost:8080/"
        },
        "id": "WG9yU6vY3aod",
        "outputId": "2158eabf-d438-47c5-cbc0-6f84d6f6e0cc"
      },
      "outputs": [
        {
          "name": "stdout",
          "output_type": "stream",
          "text": [
            "Number of columns added:  53\n",
            "       class_p  cap-shape_c  cap-shape_f  cap-shape_k  cap-shape_s  \\\n",
            "0            1            0            0          NaN            0   \n",
            "1            1            0            0          NaN            0   \n",
            "2            1            0            0          NaN            0   \n",
            "3            1            0            1          NaN            0   \n",
            "4            1            0            0          NaN            0   \n",
            "...        ...          ...          ...          ...          ...   \n",
            "61064        1            0            0          NaN            1   \n",
            "61065        1            0            1          NaN            0   \n",
            "61066        1            0            0          NaN            1   \n",
            "61067        1            0            1          NaN            0   \n",
            "61068        1            0            0          NaN            1   \n",
            "\n",
            "       cap-shape_x  cap-surface_g  cap-surface_s  cap-surface_y  cap-color_c  \\\n",
            "0                1              1              0              0          NaN   \n",
            "1                1              1              0              0          NaN   \n",
            "2                1              1              0              0          NaN   \n",
            "3                0              0              0              0          NaN   \n",
            "4                1              0              0              0          NaN   \n",
            "...            ...            ...            ...            ...          ...   \n",
            "61064            0              0              1              0          NaN   \n",
            "61065            0              0              1              0          NaN   \n",
            "61066            0              0              1              0          NaN   \n",
            "61067            0              0              1              0          NaN   \n",
            "61068            0              0              1              0          NaN   \n",
            "\n",
            "       ...  population_n  population_s  population_v  population_y  habitat_g  \\\n",
            "0      ...           NaN           NaN           NaN           NaN          0   \n",
            "1      ...           NaN           NaN           NaN           NaN          0   \n",
            "2      ...           NaN           NaN           NaN           NaN          0   \n",
            "3      ...           NaN           NaN           NaN           NaN          0   \n",
            "4      ...           NaN           NaN           NaN           NaN          0   \n",
            "...    ...           ...           ...           ...           ...        ...   \n",
            "61064  ...           NaN           NaN           NaN           NaN          0   \n",
            "61065  ...           NaN           NaN           NaN           NaN          0   \n",
            "61066  ...           NaN           NaN           NaN           NaN          0   \n",
            "61067  ...           NaN           NaN           NaN           NaN          0   \n",
            "61068  ...           NaN           NaN           NaN           NaN          0   \n",
            "\n",
            "       habitat_l  habitat_m  habitat_p  habitat_u  habitat_w  \n",
            "0              0          0          0          0          0  \n",
            "1              0          0          0          0          0  \n",
            "2              0          0          0          0          0  \n",
            "3              0          0          0          0          0  \n",
            "4              0          0          0          0          0  \n",
            "...          ...        ...        ...        ...        ...  \n",
            "61064          0          0          0          0          0  \n",
            "61065          0          0          0          0          0  \n",
            "61066          0          0          0          0          0  \n",
            "61067          0          0          0          0          0  \n",
            "61068          0          0          0          0          0  \n",
            "\n",
            "[61069 rows x 96 columns]\n"
          ]
        }
      ],
      "source": [
        "# read in dataset\n",
        "df2 = pd.read_csv(r'data.csv', sep=';')\n",
        "\n",
        "# drop columns that aren't in the original dataset\n",
        "df2 = df2.drop([col for col in df2.columns if col not in df.columns and col in df2.columns], axis=1)\n",
        "\n",
        "# convert categorical data into binary\n",
        "# don't drop first column because it will get dropped later\n",
        "df2_binary = pd.get_dummies(df2, columns=df2.columns, drop_first=False)\n",
        "\n",
        "# drop columns that aren't in the original dataset\n",
        "df2_binary = df2_binary.drop([col for col in df2_binary.columns if col not in df_binary.columns and col in df2_binary.columns], axis=1)\n",
        "\n",
        "# insert columns that are in original dataset, but not in this one\n",
        "# fill them with NaN\n",
        "index = 0\n",
        "count = 0\n",
        "for col in df_binary:\n",
        "  if col not in df2_binary:\n",
        "    df2_binary.insert(index, col, np.nan)\n",
        "    count += 1\n",
        "  index += 1\n",
        "\n",
        "print(\"Number of columns added: \", count)\n",
        "print(df2_binary)"
      ]
    },
    {
      "cell_type": "code",
      "execution_count": null,
      "metadata": {
        "colab": {
          "base_uri": "https://localhost:8080/"
        },
        "id": "iPhJYLdWMx79",
        "outputId": "8f53caeb-8bdd-4e27-deb9-f3d8e999f095"
      },
      "outputs": [
        {
          "name": "stdout",
          "output_type": "stream",
          "text": [
            "(61069, 95)\n"
          ]
        }
      ],
      "source": [
        "# make numpy array\n",
        "mushroom_data_2 = df2_binary.values\n",
        "\n",
        "# split array into labels and features\n",
        "X2, y2 = mushroom_data_2[:, 1:], mushroom_data_2[:, 0]"
      ]
    },
    {
      "cell_type": "code",
      "execution_count": null,
      "metadata": {
        "id": "BBNyaWBQNRqA"
      },
      "outputs": [],
      "source": [
        "# fill NaN values using scikit's iterative imputer\n",
        "# unfortunately, this needs to train on the original dataset in order to fill columns that are completely empty\n",
        "from sklearn.experimental import enable_iterative_imputer\n",
        "from sklearn.impute import IterativeImputer\n",
        "\n",
        "imp = IterativeImputer(max_iter=10, random_state=0)\n",
        "imp.fit(X)\n",
        "X2 = imp.transform(X2)"
      ]
    },
    {
      "cell_type": "markdown",
      "metadata": {
        "id": "mtRLCXEgP_pd"
      },
      "source": [
        "**Test it on Perceptron**"
      ]
    },
    {
      "cell_type": "code",
      "execution_count": null,
      "metadata": {
        "colab": {
          "base_uri": "https://localhost:8080/",
          "height": 466
        },
        "id": "PwXePPHjQFOk",
        "outputId": "174946c7-aadb-474d-fb90-1355a999c1d5"
      },
      "outputs": [
        {
          "name": "stdout",
          "output_type": "stream",
          "text": [
            "Perceptron has accuracy of:  0.4364079975110121\n"
          ]
        },
        {
          "data": {
            "image/png": "[encoded data removed]",
            "text/plain": [
              "<Figure size 640x480 with 2 Axes>"
            ]
          },
          "metadata": {},
          "output_type": "display_data"
        }
      ],
      "source": [
        "# test model\n",
        "y_pred = p.predict(X2)\n",
        "print(\"Perceptron has accuracy of: \", p.score(X2, y2))\n",
        "# Evaluate the confusion_matrix\n",
        "ConfusionMatrixDisplay.from_predictions(y2, y_pred)\n",
        "plt.show()"
      ]
    },
    {
      "cell_type": "markdown",
      "metadata": {
        "id": "6Gh-fduSQb4z"
      },
      "source": [
        "**Test it on Logsistic Model**"
      ]
    },
    {
      "cell_type": "code",
      "execution_count": null,
      "metadata": {
        "colab": {
          "base_uri": "https://localhost:8080/",
          "height": 466
        },
        "id": "vmP0N1huQfQn",
        "outputId": "b869f56f-de19-4bf7-ffb0-207fa27e9b4c"
      },
      "outputs": [
        {
          "name": "stdout",
          "output_type": "stream",
          "text": [
            "Logistic Model has accuracy of:  0.43721036859945306\n"
          ]
        },
        {
          "data": {
            "image/png": "[encoded data removed]",
            "text/plain": [
              "<Figure size 640x480 with 2 Axes>"
            ]
          },
          "metadata": {},
          "output_type": "display_data"
        }
      ],
      "source": [
        "# test model\n",
        "y_pred = logreg.predict(X2)\n",
        "print(\"Logistic Model has accuracy of: \", logreg.score(X2, y2))\n",
        "# Evaluate the confusion_matrix\n",
        "ConfusionMatrixDisplay.from_predictions(y2, y_pred)\n",
        "plt.show()"
      ]
    },
    {
      "cell_type": "code",
      "execution_count": null,
      "metadata": {
        "colab": {
          "base_uri": "https://localhost:8080/"
        },
        "id": "vZMt2S9QcAA1",
        "outputId": "7a3e3665-2dc4-4b54-96f6-44bea31a24f4"
      },
      "outputs": [
        {
          "name": "stdout",
          "output_type": "stream",
          "text": [
            "Number of poisonous mushrooms: 33888\n",
            "Number of edible mushrooms: 27181\n"
          ]
        }
      ],
      "source": [
        "# count how many of each class there are\n",
        "poisonous = df2['class'].value_counts()['p']\n",
        "edible = df2['class'].value_counts()['e']\n",
        "print(f\"Number of poisonous mushrooms: {poisonous}\")\n",
        "print(f\"Number of edible mushrooms: {edible}\")"
      ]
    },
    {
      "cell_type": "markdown",
      "metadata": {
        "id": "9ydLWP0Qd1zc"
      },
      "source": [
        "**Results**\n",
        "\n",
        "Both models overwhelmingly predict that a mushroom is edible (~91% of the time).  This is not great, especially given that there are more poisonous mushrooms than edible ones in this dataset--it's worse than a model that just always chooses poisonous for the class (this would give an accuracy score of 56%).  However, this is not necessarily significant since there were many missing values in this dataset that had to be inferred from the original.  Additionally, it's unknown what families these mushrooms belong to; the original dataset only had samples from the Agaricus and Lepiota families and it could be the case that other families of mushrooms would have completely different feature indicators of edibility."
      ]
    },
    {
      "cell_type": "markdown",
      "metadata": {
        "id": "sgWg7Vgla9FF"
      },
      "source": [
        "# **Narrowing Down Features**\n",
        "Since the perceptron and logistic regression models perform so well (at least on the original dataset), it seems likely not all of the features are necessary to build a classifier.  We will try narrow down the number of features to as few as possible while still maintaining the same accuracy."
      ]
    },
    {
      "cell_type": "markdown",
      "metadata": {
        "id": "D9mX61N47eYs"
      },
      "source": [
        "## **Using Most Important Features from Logistic Regression**"
      ]
    },
    {
      "cell_type": "markdown",
      "metadata": {
        "id": "D5pa-NeFep_p"
      },
      "source": [
        "### **With Initial Categorical Data**"
      ]
    },
    {
      "cell_type": "code",
      "execution_count": null,
      "metadata": {
        "id": "bKLxLt1DKK2K"
      },
      "outputs": [],
      "source": [
        "# function to drop columns from dataframe and follow all previous steps to get logistic regression model\n",
        "# returns the y_test and y predictions so you can make a confusion matrix\n",
        "def makeLogRegClassifier(oldData, names):\n",
        "  temp_df = oldData.copy()\n",
        "  temp_df.drop(labels=names, axis=1, inplace=True)\n",
        "\n",
        "  temp_df_binary = pd.get_dummies(temp_df, columns=temp_df.columns, drop_first=True)\n",
        "\n",
        "  # make numpy array\n",
        "  temp_data = temp_df_binary.values\n",
        "\n",
        "  # split array into labels and features\n",
        "  X_temp, y_temp = temp_data[:, 1:], temp_data[:, 0]\n",
        "\n",
        "  # separate data into training and testing groups\n",
        "  X_temp_train, X_temp_test, y_temp_train, y_temp_test = train_test_split(\n",
        "                                  X_temp, y_temp,\n",
        "                                  test_size=0.2,\n",
        "                                  random_state=123)\n",
        "\n",
        "  # Fitting logistic regression with default parameter values\n",
        "  logreg_temp = LogisticRegression()\n",
        "  logreg_temp.fit(X_temp_train, y_temp_train)\n",
        "\n",
        "  # Using the trained model to predict instances from the test set\n",
        "  y_temp_pred = logreg_temp.predict(X_temp_test)\n",
        "\n",
        "  return(y_temp_test, y_temp_pred, logreg_temp.score(X_temp_test, y_temp_test))"
      ]
    },
    {
      "cell_type": "code",
      "execution_count": null,
      "metadata": {
        "colab": {
          "base_uri": "https://localhost:8080/"
        },
        "id": "YIZ6Pflu2Avc",
        "outputId": "eefb77c7-1d58-42d6-86ae-bb2b908f28c6"
      },
      "outputs": [
        {
          "name": "stdout",
          "output_type": "stream",
          "text": [
            "['cap-color', 'odor', 'gill-spacing', 'gill-size', 'stalk-root', 'stalk-surface-above-ring', 'stalk-surface-below-ring', 'stalk-color-below-ring', 'ring-type', 'spore-print-color', 'population', 'habitat']\n",
            "Number of features to keep:  12\n"
          ]
        }
      ],
      "source": [
        "# find the weights greater than |1|\n",
        "weights = logreg.coef_\n",
        "count = 1\n",
        "most_important = []\n",
        "for weight in np.nditer(weights):\n",
        "  if weight <= -1.1 or weight >= 1.1:\n",
        "      most_important.append(count)\n",
        "  count += 1\n",
        "\n",
        "# get the names of the columns\n",
        "index = 0\n",
        "mvp_names = []\n",
        "for col in df_binary:\n",
        "  if index in most_important:\n",
        "    name = col[:-2]\n",
        "    if name not in mvp_names:\n",
        "      mvp_names.append(name)\n",
        "  index += 1\n",
        "\n",
        "print(mvp_names)\n",
        "print(\"Number of features to keep: \", len(mvp_names))"
      ]
    },
    {
      "cell_type": "code",
      "execution_count": null,
      "metadata": {
        "colab": {
          "base_uri": "https://localhost:8080/"
        },
        "id": "K36gTQZp8DUD",
        "outputId": "6fa5ac16-9018-4f86-a3ff-423c3e1f15cf"
      },
      "outputs": [
        {
          "name": "stdout",
          "output_type": "stream",
          "text": [
            "['cap-shape', 'cap-surface', 'bruises', 'gill-attachment', 'gill-color', 'stalk-shape', 'stalk-color-above-ring', 'veil-type', 'veil-color', 'ring-number']\n",
            "Number of features to drop:  10\n"
          ]
        }
      ],
      "source": [
        "# get columns to drop\n",
        "drop_names = []\n",
        "for col in df:\n",
        "  if col not in mvp_names and col != 'class':\n",
        "    drop_names.append(col)\n",
        "print(drop_names)\n",
        "print(\"Number of features to drop: \", len(drop_names))"
      ]
    },
    {
      "cell_type": "code",
      "execution_count": null,
      "metadata": {
        "colab": {
          "base_uri": "https://localhost:8080/",
          "height": 466
        },
        "id": "nKIRqPLNMkGO",
        "outputId": "2124e51f-1f10-4e18-def5-8142f3997628"
      },
      "outputs": [
        {
          "name": "stdout",
          "output_type": "stream",
          "text": [
            "Logistic regression classifier has accuracy of:  1.0\n"
          ]
        },
        {
          "data": {
            "image/png": "[encoded data removed]",
            "text/plain": [
              "<Figure size 640x480 with 2 Axes>"
            ]
          },
          "metadata": {},
          "output_type": "display_data"
        }
      ],
      "source": [
        "y_new_test, y_new_pred, score = makeLogRegClassifier(df, drop_names)\n",
        "\n",
        "print(\"Logistic regression classifier has accuracy of: \", score)\n",
        "\n",
        "# Evaluate the confusion_matrix\n",
        "ConfusionMatrixDisplay.from_predictions(y_new_test, y_new_pred)\n",
        "plt.show()"
      ]
    },
    {
      "cell_type": "markdown",
      "metadata": {
        "id": "rJziiwKfFmzP"
      },
      "source": [
        "Just by looking at the weights from the original logistic regression model, we managed to discard 10 features while retaining the same accuracy."
      ]
    },
    {
      "cell_type": "code",
      "execution_count": null,
      "metadata": {
        "colab": {
          "base_uri": "https://localhost:8080/"
        },
        "id": "epYqYGmgIgLX",
        "outputId": "4820ea78-6047-4302-f41f-1d233534a43e"
      },
      "outputs": [
        {
          "name": "stdout",
          "output_type": "stream",
          "text": [
            "Dropping feature: cap-color\n",
            "Logistic regression classifier has accuracy of:  1.0 \n",
            "\n",
            "Dropping feature: odor\n",
            "Logistic regression classifier has accuracy of:  0.9901538461538462 \n",
            "\n",
            "Dropping feature: gill-spacing\n",
            "Logistic regression classifier has accuracy of:  1.0 \n",
            "\n",
            "Dropping feature: gill-size\n",
            "Logistic regression classifier has accuracy of:  0.9987692307692307 \n",
            "\n",
            "Dropping feature: stalk-root\n",
            "Logistic regression classifier has accuracy of:  0.9987692307692307 \n",
            "\n",
            "Dropping feature: stalk-surface-above-ring\n",
            "Logistic regression classifier has accuracy of:  1.0 \n",
            "\n",
            "Dropping feature: stalk-surface-below-ring\n",
            "Logistic regression classifier has accuracy of:  1.0 \n",
            "\n",
            "Dropping feature: stalk-color-below-ring\n",
            "Logistic regression classifier has accuracy of:  1.0 \n",
            "\n",
            "Dropping feature: ring-type\n",
            "Logistic regression classifier has accuracy of:  1.0 \n",
            "\n",
            "Dropping feature: spore-print-color\n",
            "Logistic regression classifier has accuracy of:  1.0 \n",
            "\n",
            "Dropping feature: population\n",
            "Logistic regression classifier has accuracy of:  0.9987692307692307 \n",
            "\n",
            "Dropping feature: habitat\n",
            "Logistic regression classifier has accuracy of:  0.9987692307692307 \n",
            "\n",
            "Columns that don't affect the accuracy score:  ['cap-color', 'gill-spacing', 'stalk-surface-above-ring', 'stalk-surface-below-ring', 'stalk-color-below-ring', 'ring-type', 'spore-print-color']\n"
          ]
        }
      ],
      "source": [
        "import copy\n",
        "# drop one of the remaining features at a time\n",
        "# put column names that don't effect accuracy in a list\n",
        "no_change_names = []\n",
        "for name in mvp_names:\n",
        "  print(f\"Dropping feature: {name}\")\n",
        "  new_names = copy.copy(drop_names)\n",
        "  new_names.append(name)\n",
        "  ytest, ypred, score = makeLogRegClassifier(df, new_names)\n",
        "  if score == 1.0:\n",
        "    no_change_names.append(name)\n",
        "  print(\"Logistic regression classifier has accuracy of: \", score, \"\\n\")\n",
        "print(\"Columns that don't affect the accuracy score: \", no_change_names)"
      ]
    },
    {
      "cell_type": "markdown",
      "metadata": {
        "id": "ZVMUQeMCX5Wq"
      },
      "source": [
        "Additionally dropping cap color, gill spacing, stalk shape, stalk surface above ring, stalk surface below ring, stalk color below ring, ring type, and spore print color on their own had no effect on accuracy.  (This equates to getting rid of 37 binary features.)\n",
        "\n",
        "What if we drop all of them?"
      ]
    },
    {
      "cell_type": "code",
      "execution_count": null,
      "metadata": {
        "colab": {
          "base_uri": "https://localhost:8080/",
          "height": 466
        },
        "id": "mUWM0NUsYb3b",
        "outputId": "cd38bd47-016c-441d-971d-7dc4fe5016e9"
      },
      "outputs": [
        {
          "name": "stdout",
          "output_type": "stream",
          "text": [
            "Logistic regression classifier has accuracy of:  0.9864615384615385\n"
          ]
        },
        {
          "data": {
            "image/png": "[encoded data removed]",
            "text/plain": [
              "<Figure size 640x480 with 2 Axes>"
            ]
          },
          "metadata": {},
          "output_type": "display_data"
        }
      ],
      "source": [
        "temp_names = copy.copy(drop_names)\n",
        "more_names = temp_names + no_change_names\n",
        "ytest, ypred, score = makeLogRegClassifier(df, more_names)\n",
        "print(\"Logistic regression classifier has accuracy of: \", score)\n",
        "# Evaluate the confusion_matrix\n",
        "ConfusionMatrixDisplay.from_predictions(ytest, ypred)\n",
        "plt.show()"
      ]
    },
    {
      "cell_type": "markdown",
      "metadata": {
        "id": "-WNW2CJ-bPsl"
      },
      "source": [
        "Not ideal; it's only wrong in classifying a few mushrooms as edible that are actually poisonous, but this is the wrong way to be wrong!"
      ]
    },
    {
      "cell_type": "markdown",
      "metadata": {
        "id": "tSXHVNWSe263"
      },
      "source": [
        "### **With Binary Data**"
      ]
    },
    {
      "cell_type": "code",
      "execution_count": null,
      "metadata": {
        "colab": {
          "base_uri": "https://localhost:8080/"
        },
        "id": "J5SDlXEwfBQj",
        "outputId": "8858302a-c74b-474f-db95-e03187fedf57"
      },
      "outputs": [
        {
          "name": "stdout",
          "output_type": "stream",
          "text": [
            "['cap-color_c', 'odor_c', 'odor_f', 'odor_l', 'odor_n', 'odor_p', 'odor_s', 'odor_y', 'gill-spacing_w', 'gill-size_n', 'stalk-root_b', 'stalk-root_c', 'stalk-root_r', 'stalk-surface-above-ring_k', 'stalk-surface-below-ring_y', 'stalk-color-below-ring_n', 'ring-type_f', 'spore-print-color_k', 'spore-print-color_n', 'spore-print-color_r', 'spore-print-color_u', 'population_c', 'population_y', 'habitat_w']\n",
            "Number of binary features to keep:  24\n"
          ]
        }
      ],
      "source": [
        "# find the weights greater than |1|\n",
        "weights = logreg.coef_\n",
        "count = 1\n",
        "most_important = []\n",
        "for weight in np.nditer(weights):\n",
        "  if weight <= -1.1 or weight >= 1.1:\n",
        "      most_important.append(count)\n",
        "  count += 1\n",
        "\n",
        "# get the names of the columns\n",
        "index = 0\n",
        "mvp_names_b = []\n",
        "for col in df_binary:\n",
        "  if index in most_important:\n",
        "    if col not in mvp_names_b:\n",
        "      mvp_names_b.append(col)\n",
        "  index += 1\n",
        "\n",
        "print(mvp_names_b)\n",
        "print(\"Number of binary features to keep: \", len(mvp_names_b))"
      ]
    },
    {
      "cell_type": "code",
      "execution_count": null,
      "metadata": {
        "colab": {
          "base_uri": "https://localhost:8080/"
        },
        "id": "zHtifYwDfO0h",
        "outputId": "5111f10f-8050-4a54-c986-d92e7e26d227"
      },
      "outputs": [
        {
          "name": "stdout",
          "output_type": "stream",
          "text": [
            "['cap-shape_c', 'cap-shape_f', 'cap-shape_k', 'cap-shape_s', 'cap-shape_x', 'cap-surface_g', 'cap-surface_s', 'cap-surface_y', 'cap-color_e', 'cap-color_g', 'cap-color_n', 'cap-color_p', 'cap-color_r', 'cap-color_u', 'cap-color_w', 'cap-color_y', 'bruises_t', 'odor_m', 'gill-attachment_f', 'gill-color_e', 'gill-color_g', 'gill-color_h', 'gill-color_k', 'gill-color_n', 'gill-color_o', 'gill-color_p', 'gill-color_r', 'gill-color_u', 'gill-color_w', 'gill-color_y', 'stalk-shape_t', 'stalk-root_e', 'stalk-surface-above-ring_s', 'stalk-surface-above-ring_y', 'stalk-surface-below-ring_k', 'stalk-surface-below-ring_s', 'stalk-color-above-ring_c', 'stalk-color-above-ring_e', 'stalk-color-above-ring_g', 'stalk-color-above-ring_n', 'stalk-color-above-ring_o', 'stalk-color-above-ring_p', 'stalk-color-above-ring_w', 'stalk-color-above-ring_y', 'stalk-color-below-ring_c', 'stalk-color-below-ring_e', 'stalk-color-below-ring_g', 'stalk-color-below-ring_o', 'stalk-color-below-ring_p', 'stalk-color-below-ring_w', 'stalk-color-below-ring_y', 'veil-color_o', 'veil-color_w', 'veil-color_y', 'ring-number_o', 'ring-number_t', 'ring-type_l', 'ring-type_n', 'ring-type_p', 'spore-print-color_h', 'spore-print-color_o', 'spore-print-color_w', 'spore-print-color_y', 'population_n', 'population_s', 'population_v', 'habitat_g', 'habitat_l', 'habitat_m', 'habitat_p', 'habitat_u']\n",
            "Number of features to drop:  71\n"
          ]
        }
      ],
      "source": [
        "# get columns to drop\n",
        "drop_names_b = []\n",
        "for col in df_binary:\n",
        "  if col not in mvp_names_b and col != 'class_p':\n",
        "    drop_names_b.append(col)\n",
        "print(drop_names_b)\n",
        "print(\"Number of features to drop: \", len(drop_names_b))"
      ]
    },
    {
      "cell_type": "code",
      "execution_count": null,
      "metadata": {
        "colab": {
          "base_uri": "https://localhost:8080/",
          "height": 466
        },
        "id": "dYFXQIgNfpFq",
        "outputId": "9cfad1c4-8d22-45f5-bbc5-6cbaf1f38e93"
      },
      "outputs": [
        {
          "name": "stdout",
          "output_type": "stream",
          "text": [
            "Logistic rergession accuracy score:  1.0\n"
          ]
        },
        {
          "data": {
            "image/png": "[encoded data removed]",
            "text/plain": [
              "<Figure size 640x480 with 2 Axes>"
            ]
          },
          "metadata": {},
          "output_type": "display_data"
        }
      ],
      "source": [
        "df_b = df_binary.copy()\n",
        "df_b.drop(labels=drop_names_b, axis=1, inplace=True)\n",
        "\n",
        "# make numpy array\n",
        "data_b = df_b.values\n",
        "\n",
        "# split array into labels and features\n",
        "X_b, y_b = data_b[:, 1:], data_b[:, 0]\n",
        "\n",
        "# separate data into training and testing groups\n",
        "X_train_b, X_test_b, y_train_b, y_test_b = train_test_split(\n",
        "                                X_b, y_b,\n",
        "                                test_size=0.2,\n",
        "                                random_state=123)\n",
        "\n",
        "# Fitting logistic regression with default parameter values\n",
        "logreg_b = LogisticRegression()\n",
        "logreg_b.fit(X_train_b, y_train_b)\n",
        "\n",
        "# Using the trained model to predict instances from the test set\n",
        "y_pred_b = logreg_b.predict(X_test_b)\n",
        "\n",
        "print(\"Logistic rergession accuracy score: \", logreg_b.score(X_test_b, y_test_b))\n",
        "# Evaluate the confusion_matrix\n",
        "ConfusionMatrixDisplay.from_predictions(y_test_b, y_pred_b)\n",
        "plt.show()"
      ]
    },
    {
      "cell_type": "markdown",
      "metadata": {
        "id": "6PK3Yo-_qfRi"
      },
      "source": [
        "## Sklearn Feature Selection"
      ]
    },
    {
      "cell_type": "code",
      "execution_count": null,
      "metadata": {
        "colab": {
          "base_uri": "https://localhost:8080/"
        },
        "id": "WoPeYyE0qu1C",
        "outputId": "7631593e-48eb-422f-b59e-72a1db4c8b34"
      },
      "outputs": [
        {
          "name": "stdout",
          "output_type": "stream",
          "text": [
            "Number of features dropped:  65\n",
            "Dropped columns:  ['class_p', 'cap-shape_c', 'cap-shape_f', 'cap-shape_k', 'cap-shape_s', 'cap-surface_g', 'cap-surface_s', 'cap-color_c', 'cap-color_e', 'cap-color_g', 'cap-color_n', 'cap-color_p', 'cap-color_r', 'cap-color_u', 'cap-color_w', 'cap-color_y', 'odor_l', 'odor_y', 'gill-size_n', 'gill-color_e', 'gill-color_g', 'gill-color_h', 'gill-color_k', 'gill-color_n', 'gill-color_o', 'gill-color_p', 'gill-color_r', 'gill-color_u', 'gill-color_w', 'stalk-root_c', 'stalk-surface-above-ring_k', 'stalk-surface-above-ring_s', 'stalk-surface-above-ring_y', 'stalk-surface-below-ring_k', 'stalk-surface-below-ring_y', 'stalk-color-above-ring_c', 'stalk-color-above-ring_e', 'stalk-color-above-ring_g', 'stalk-color-above-ring_n', 'stalk-color-above-ring_o', 'stalk-color-above-ring_p', 'stalk-color-above-ring_w', 'stalk-color-above-ring_y', 'stalk-color-below-ring_c', 'stalk-color-below-ring_e', 'stalk-color-below-ring_n', 'stalk-color-below-ring_o', 'stalk-color-below-ring_p', 'stalk-color-below-ring_y', 'veil-color_o', 'veil-color_w', 'veil-color_y', 'ring-number_o', 'ring-type_f', 'ring-type_l', 'ring-type_n', 'spore-print-color_n', 'spore-print-color_w', 'population_n', 'population_s', 'population_y', 'habitat_g', 'habitat_l', 'habitat_m', 'habitat_p']\n",
            "Logistic regression classifier has accuracy of:  1.0\n"
          ]
        }
      ],
      "source": [
        "from sklearn.feature_selection import SelectFromModel\n",
        "\n",
        "# need baseline model to select from\n",
        "logreg = LogisticRegression()\n",
        "logreg.fit(X_train, y_train)\n",
        "\n",
        "# feature selection\n",
        "select_model_fs = SelectFromModel(logreg, prefit=True)\n",
        "select_model_fs.fit(X_train, y_train)\n",
        "\n",
        "# colums dropped\n",
        "dropped_columns = []\n",
        "num_dropped = 0\n",
        "counter = 0\n",
        "for x in select_model_fs.get_support():\n",
        "  if x == False:\n",
        "    num_dropped += 1\n",
        "    dropped_columns.append(df_binary.columns[counter])\n",
        "  counter += 1\n",
        "\n",
        "print(\"Number of features dropped: \", num_dropped)\n",
        "print(\"Dropped columns: \", dropped_columns)\n",
        "\n",
        "# new model with feature selection\n",
        "new_x = select_model_fs.transform(X_train)\n",
        "logreg_fs = LogisticRegression()\n",
        "logreg_fs.fit(new_x, y_train)\n",
        "\n",
        "print(\"Logistic regression classifier has accuracy of: \", logreg_fs.score(new_x, y_train))"
      ]
    }
  ],
  "metadata": {
    "colab": {
      "provenance": [],
      "toc_visible": true
    },
    "kernelspec": {
      "display_name": "Python 3",
      "name": "python3"
    },
    "language_info": {
      "name": "python"
    }
  },
  "nbformat": 4,
  "nbformat_minor": 0
}